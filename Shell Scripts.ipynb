{
 "cells": [
  {
   "cell_type": "code",
   "execution_count": 1,
   "id": "9ea9f9c2",
   "metadata": {
    "ExecuteTime": {
     "end_time": "2023-09-15T02:52:15.876124Z",
     "start_time": "2023-09-15T02:52:15.870716Z"
    }
   },
   "outputs": [],
   "source": [
    "# -*- coding: utf-8 -*-\n",
    "\"\"\"\n",
    "@Author: Guan-Fu Liu\n",
    "Created on Sep. 15, 2023.\n",
    "Last modified on Sep. 15, 2023\n",
    "A short notes on the RGS data processing board on XMM-Newton\n",
    "\"\"\"\n",
    "import numpy as np"
   ]
  },
  {
   "cell_type": "markdown",
   "id": "c748a9ec",
   "metadata": {},
   "source": [
    "# Main.sh\n",
    "\n",
    "```bash\n",
    "#!/bin/bash\n",
    "# Author: Guan-Fu Liu\n",
    "# Date: Feb 21., 2023\n",
    "# Run the pipeline all in one.\n",
    "# The pipeline goes as follows,\n",
    "# 0. Modify parameter.sh\n",
    "# 1. Source unpack.sh\n",
    "# 2. Source initialize.sh\n",
    "# 3. Source rgsproc.sh\n",
    "# 4. Source image.sh\n",
    "# 5. Source lightcurve.sh\n",
    "# 6. Source background.sh\n",
    "# 7. Source deflare2.sh (or deflare1.sh)\n",
    "# 8. Source spectra.sh\n",
    "# All the shell scripts are in the directory work_dir/shell_scripts.\n",
    "# The archive format data file obsid.tar.gz should be in the directory work_dir.\n",
    "\n",
    "\n",
    "echo \"Did you input the right parameters in paramter.sh? (yes or no)\\n\"\n",
    "while true\n",
    "do\n",
    "    read yn\n",
    "    case $yn in\n",
    "        [Yy]* ) \n",
    "            echo \"Proceeding!\"\n",
    "            break;;\n",
    "        [Nn]* ) \n",
    "            echo \"Stop here!\"\n",
    "            return\n",
    "            # return will skip the rest of this shell script.\n",
    "            # break here is just for completing the while loop.\n",
    "            break;;\n",
    "        * ) \n",
    "            echo \"Please answer yes or no.\";;\n",
    "    esac\n",
    "done\n",
    "\n",
    "# In work_dir/shell_scripts\n",
    "cp unpack.sh ../\n",
    "# Move to work_dir\n",
    "cd ..\n",
    "# In work_dir\n",
    "work_dir=$PWD\n",
    "export work_dir\n",
    "source $work_dir/shell_scripts/parameter.sh\n",
    "source unpack.sh 2>&1 | tee unpack.log\n",
    "# Move to work_dir/obsid/odf\n",
    "cd $work_dir/$obsid/odf\n",
    "# In work_dir/obsid/odf\n",
    "# The environment variable defined and exported in initialize.sh will be unset by tee.\n",
    "# Why?\n",
    "# source initialize.sh 2>&1 | tee initialize.log\n",
    "# echo \"The standard output and standard error will be redirected to file initialize.log\"\n",
    "source initialize.sh 2>&1 | tee initialize.log\n",
    "# echo \"cat the file initialize.log\"\n",
    "# cat initialize.log\n",
    "# Move to work_dir/obsid/rgs\n",
    "cd $work_dir/$obsid/rgs\n",
    "source rgsproc.sh 2>&1 | tee rgsproc.log\n",
    "source image.sh 2>&1 | tee image.log\n",
    "source lightcurve.sh 2>&1 | tee lightcurve.log\n",
    "source background.sh 2>&1 | tee background.log\n",
    "source deflare2.sh 2>&1 | tee deflare2.log\n",
    "# source deflare2-old.sh 2>&1 | tee deflare2-old.log\n",
    "source spectra.sh 2>&1 | tee spectra.log\n",
    "source OGIPtoSpex.sh 2>&1 | tee OGIPtoSpex.log\n",
    "cd $work_dir\n",
    "mv $obsid $obsid-$xpsfincl-$xpsfexcl\n",
    "```"
   ]
  },
  {
   "cell_type": "code",
   "execution_count": 2,
   "id": "26afb8b9",
   "metadata": {},
   "outputs": [],
   "source": [
    "import os"
   ]
  },
  {
   "cell_type": "code",
   "execution_count": 4,
   "id": "6b61374e",
   "metadata": {},
   "outputs": [
    {
     "ename": "FileNotFoundError",
     "evalue": "[Errno 2] No such file or directory: '*.py'",
     "output_type": "error",
     "traceback": [
      "\u001b[0;31m---------------------------------------------------------------------------\u001b[0m",
      "\u001b[0;31mFileNotFoundError\u001b[0m                         Traceback (most recent call last)",
      "\u001b[1;32m/Users/liuguanfu/Workspace/SAS-21/shell-scripts/Shell Scripts.ipynb Cell 4\u001b[0m line \u001b[0;36m1\n\u001b[0;32m----> <a href='vscode-notebook-cell:/Users/liuguanfu/Workspace/SAS-21/shell-scripts/Shell%20Scripts.ipynb#W3sZmlsZQ%3D%3D?line=0'>1</a>\u001b[0m os\u001b[39m.\u001b[39;49mlistdir(\u001b[39m'\u001b[39;49m\u001b[39m*.py\u001b[39;49m\u001b[39m'\u001b[39;49m)\n",
      "\u001b[0;31mFileNotFoundError\u001b[0m: [Errno 2] No such file or directory: '*.py'"
     ]
    }
   ],
   "source": [
    "os.listdir('*.py')"
   ]
  },
  {
   "cell_type": "code",
   "execution_count": 5,
   "id": "368a253e",
   "metadata": {},
   "outputs": [
    {
     "name": "stdout",
     "output_type": "stream",
     "text": [
      "Help on built-in function listdir in module posix:\n",
      "\n",
      "listdir(path=None)\n",
      "    Return a list containing the names of the files in the directory.\n",
      "    \n",
      "    path can be specified as either str, bytes, or a path-like object.  If path is bytes,\n",
      "      the filenames returned will also be bytes; in all other circumstances\n",
      "      the filenames returned will be str.\n",
      "    If path is None, uses the path='.'.\n",
      "    On some platforms, path may also be specified as an open file descriptor;\\\n",
      "      the file descriptor must refer to a directory.\n",
      "      If this functionality is unavailable, using it raises NotImplementedError.\n",
      "    \n",
      "    The list is in arbitrary order.  It does not include the special\n",
      "    entries '.' and '..' even if they are present in the directory.\n",
      "\n"
     ]
    }
   ],
   "source": [
    "help(os.listdir)"
   ]
  },
  {
   "cell_type": "code",
   "execution_count": 6,
   "id": "057da144",
   "metadata": {},
   "outputs": [
    {
     "data": {
      "text/plain": [
       "True"
      ]
     },
     "execution_count": 6,
     "metadata": {},
     "output_type": "execute_result"
    }
   ],
   "source": [
    "\"a.rsp\".endswith('.rsp')"
   ]
  },
  {
   "cell_type": "code",
   "execution_count": null,
   "id": "c991ccb6",
   "metadata": {},
   "outputs": [],
   "source": []
  }
 ],
 "metadata": {
  "kernelspec": {
   "display_name": "Python 3 (ipykernel)",
   "language": "python",
   "name": "python3"
  },
  "language_info": {
   "codemirror_mode": {
    "name": "ipython",
    "version": 3
   },
   "file_extension": ".py",
   "mimetype": "text/x-python",
   "name": "python",
   "nbconvert_exporter": "python",
   "pygments_lexer": "ipython3",
   "version": "3.11.5"
  },
  "varInspector": {
   "cols": {
    "lenName": 16,
    "lenType": 16,
    "lenVar": 40
   },
   "kernels_config": {
    "python": {
     "delete_cmd_postfix": "",
     "delete_cmd_prefix": "del ",
     "library": "var_list.py",
     "varRefreshCmd": "print(var_dic_list())"
    },
    "r": {
     "delete_cmd_postfix": ") ",
     "delete_cmd_prefix": "rm(",
     "library": "var_list.r",
     "varRefreshCmd": "cat(var_dic_list()) "
    }
   },
   "types_to_exclude": [
    "module",
    "function",
    "builtin_function_or_method",
    "instance",
    "_Feature"
   ],
   "window_display": false
  }
 },
 "nbformat": 4,
 "nbformat_minor": 5
}
