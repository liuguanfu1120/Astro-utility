{
 "cells": [
  {
   "cell_type": "code",
   "execution_count": 1,
   "id": "22297260",
   "metadata": {
    "ExecuteTime": {
     "end_time": "2023-09-05T02:58:57.664094Z",
     "start_time": "2023-09-05T02:58:57.404730Z"
    }
   },
   "outputs": [],
   "source": [
    "# -*- coding: utf-8 -*-\n",
    "\"\"\"\n",
    "Author: Guan-Fu Liu\n",
    "Created on Aug. 29, 2023\n",
    "Last modified on Sep. 5, 2023\n",
    "Convert excel table to LaTeX code of AASTeX (aastex631) template\n",
    "\"\"\"\n",
    "import pandas as pd"
   ]
  },
  {
   "cell_type": "markdown",
   "id": "b7cc17c8",
   "metadata": {},
   "source": [
    "# For more details about AASTeX table\n",
    "[AASTeX Table](https://journals.aas.org/aastexguide)"
   ]
  },
  {
   "cell_type": "code",
   "execution_count": 3,
   "id": "6b597fda",
   "metadata": {
    "ExecuteTime": {
     "end_time": "2023-09-05T02:59:48.640791Z",
     "start_time": "2023-09-05T02:59:46.246753Z"
    }
   },
   "outputs": [
    {
     "name": "stdout",
     "output_type": "stream",
     "text": [
      "Would you like to make it span both columns? (yes or no)\n",
      "no\n",
      "Does the second line in Excel table file represent the units? (yes or no) \n",
      "no\n"
     ]
    }
   ],
   "source": [
    "df = pd.read_excel('Example.xlsx')\n",
    "ncols = len(df.columns)\n",
    "nrows = len(df.iloc[:,0])\n",
    "# Define the file name\n",
    "file_name = \"Example.tex\"\n",
    "lines = [ ]\n",
    "title = \"Your own table title\"\n",
    "comment = \"Your own comments\"\n",
    "label = \"tablelabel\"\n",
    "if input(\"Would you like to make it span both columns? (yes or no)\\n\").lower() == \"yes\":\n",
    "    twocolumns = True\n",
    "else:\n",
    "    twocolumns = False\n",
    "# If True, your table will span both columns in a double column text style,\n",
    "# You should use \\begin{deluxetable*} and \\end{deluxetable*}.\n",
    "# If Flase, you will use \\begin{deluxetable} and \\end{deluxetable}.\n",
    "# Open the file in write mode ('w')\n",
    "with open(file_name, 'w') as file:\n",
    "    # Write lines to the file\n",
    "    if twocolumns:\n",
    "        line = \"\\\\begin{deluxetable*}{%s}\\n\"%(\"l\"+ (ncols-1)*\"c\")\n",
    "    else:\n",
    "        line = \"\\\\begin{deluxetable}{%s}\\n\"%(\"l\"+ (ncols-1)*\"c\")\n",
    "    file.write(line)\n",
    "    lines.append(line)\n",
    "    line = \"\\t\\\\tabletypesize{\\\\scriptsize}\\n\"\n",
    "    file.write(line)\n",
    "    lines.append(line)\n",
    "    line = \"\\t\\\\tablewidth{0pt}\\n\"\n",
    "    file.write(line)\n",
    "    lines.append(line)\n",
    "    line = \"\\t%\\\\tablenum{1}\\n\"\n",
    "    file.write(line)\n",
    "    lines.append(line)\n",
    "    line = \"\\t\\\\tablecaption{%s\\\\label{tab:%s}}\\n\" % (title, label)\n",
    "    file.write(line)\n",
    "    lines.append(line)\n",
    "    line = \"\\t\\\\tablehead{\\n\"\n",
    "    file.write(line)\n",
    "    lines.append(line)\n",
    "    # First row in the Excel table file\n",
    "    line = ['\\t']\n",
    "    for i in range(ncols):\n",
    "        line.append('\\\\colhead{%s} & '%str(df.columns[i]))\n",
    "    second = input(\"Does the second line in Excel table file represent the units? (yes or no) \\n\")\n",
    "    if (second).lower() == \"yes\":\n",
    "        line[-1] = line[-1][:-3]+\" \\\\\\\\\\n\"\n",
    "        file.writelines(line)\n",
    "        lines.append(\"\".join(line))\n",
    "        line = ['\\t']\n",
    "        for i in range(ncols):\n",
    "            line.append('\\colhead{%s} & ' % str(df.iloc[0, i]))\n",
    "        line[-1] = line[-1][:-3]+\" \\n\"\n",
    "        line = [a.replace(\"nan\",\"\") for a in line]\n",
    "        file.writelines(line)\n",
    "        lines.append(\"\".join(line))\n",
    "    else:\n",
    "        line[-1] = line[-1][:-3]+\" \\n\"\n",
    "        file.writelines(line)\n",
    "        lines.append(\"\".join(line))\n",
    "    line = \"\\t}\\n\"\n",
    "    file.writelines(line)\n",
    "    lines.append(line)\n",
    "    line = \"\\t\\\\colnumbers\\n\"\n",
    "    file.writelines(line)\n",
    "    lines.append(line)\n",
    "    line = \"\\t\\\\startdata\\n\"\n",
    "    file.writelines(line)\n",
    "    lines.append(line)\n",
    "    if (second).lower() == \"yes\":\n",
    "        k = 1  # Data starts from the third row of excel.\n",
    "    else:\n",
    "        k = 0  # Data starts from the second row of excel.\n",
    "    for i in range(k, nrows-1, 1):\n",
    "        line = ['\\t']\n",
    "        for j in range(ncols):\n",
    "            line.append(\"%s & \" % str(df.iloc[i, j]))\n",
    "        line[-1] = line[-1][:-3]+\"\\\\\\\\\\n\"\n",
    "        file.writelines(line)\n",
    "        lines.append(\"\".join(line))\n",
    "        \n",
    "    # The last row in the Excel table file\n",
    "    line = ['\\t']\n",
    "    for j in range(ncols):\n",
    "        line.append(\"%s & \" % str(df.iloc[nrows-1, j]))\n",
    "    line[-1] = line[-1][:-3]+\"\\n\"\n",
    "    file.writelines(line)\n",
    "    lines.append(\"\".join(line))\n",
    "    line = \"\\t\\\\enddata\\n\"\n",
    "    file.write(line)\n",
    "    lines.append(line)\n",
    "    line = \"\\\\tablecomments{%s}\\n\"%comment\n",
    "    file.write(line)\n",
    "    lines.append(line)\n",
    "    if twocolumns:\n",
    "        line = \"\\\\end{deluxetable*}\"\n",
    "    else:\n",
    "        line = \"\\\\end{deluxetable}\"\n",
    "    file.write(line)\n",
    "    lines.append(line)"
   ]
  },
  {
   "cell_type": "code",
   "execution_count": null,
   "id": "cf7cff2a",
   "metadata": {
    "ExecuteTime": {
     "end_time": "2023-08-29T13:47:50.319741Z",
     "start_time": "2023-08-29T13:47:50.293612Z"
    }
   },
   "outputs": [],
   "source": []
  },
  {
   "cell_type": "code",
   "execution_count": null,
   "id": "0c0609a5",
   "metadata": {},
   "outputs": [],
   "source": []
  }
 ],
 "metadata": {
  "kernelspec": {
   "display_name": "Python 3 (ipykernel)",
   "language": "python",
   "name": "python3"
  },
  "language_info": {
   "codemirror_mode": {
    "name": "ipython",
    "version": 3
   },
   "file_extension": ".py",
   "mimetype": "text/x-python",
   "name": "python",
   "nbconvert_exporter": "python",
   "pygments_lexer": "ipython3",
   "version": "3.9.16"
  },
  "latex_envs": {
   "LaTeX_envs_menu_present": true,
   "autoclose": false,
   "autocomplete": true,
   "bibliofile": "biblio.bib",
   "cite_by": "apalike",
   "current_citInitial": 1,
   "eqLabelWithNumbers": true,
   "eqNumInitial": 1,
   "hotkeys": {
    "equation": "Ctrl-E",
    "itemize": "Ctrl-I"
   },
   "labels_anchors": false,
   "latex_user_defs": false,
   "report_style_numbering": false,
   "user_envs_cfg": false
  },
  "varInspector": {
   "cols": {
    "lenName": 16,
    "lenType": 16,
    "lenVar": 40
   },
   "kernels_config": {
    "python": {
     "delete_cmd_postfix": "",
     "delete_cmd_prefix": "del ",
     "library": "var_list.py",
     "varRefreshCmd": "print(var_dic_list())"
    },
    "r": {
     "delete_cmd_postfix": ") ",
     "delete_cmd_prefix": "rm(",
     "library": "var_list.r",
     "varRefreshCmd": "cat(var_dic_list()) "
    }
   },
   "types_to_exclude": [
    "module",
    "function",
    "builtin_function_or_method",
    "instance",
    "_Feature"
   ],
   "window_display": false
  }
 },
 "nbformat": 4,
 "nbformat_minor": 5
}
